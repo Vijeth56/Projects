!pip install gensim
!pip install nltk

import gensim
from gensim.models import Word2Vec

# Read in the data
data = gensim.models.word2vec.LineSentence('/content/europarl-v7.fr-en.en')

# Train the model
model = Word2Vec(data, size=100, window=5, min_count=5, workers=4)

# Save the model
model.save('translation_model.bin')
import gensim

# Load the model
model = gensim.models.Word2Vec.load('translation_model.bin')

def translate(text, model):
  # Split the text into individual words
  words = text.split()

  # Translate the words one by one
  translated_words = []
  for word in words:
    translated_words.append(model.wv.most_similar(positive=word)[0][0])

  # Join the translated words into a single string
  translated_text = " ".join(translated_words)
  return translated_text

# Define the text to translate
text = "You will be aware from the press and television that there have been a number of bomb explosions and killings in Sri Lanka."

# Translate the text
translated_text = translate(text, model)
print(translated_text)
